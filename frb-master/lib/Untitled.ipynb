{
 "cells": [
  {
   "cell_type": "code",
   "execution_count": 1,
   "metadata": {
    "collapsed": true
   },
   "outputs": [],
   "source": [
    "import math\n",
    "from scipy.stats import norm\n",
    "\n",
    "class BlackModelNormal:\n",
    "       \n",
    "    def price_call(self,fwd,K,modVol,T):\n",
    "        sigT = modVol * math.sqrt(T)\n",
    "        d = (fwd - K) / sigT \n",
    "        return (fwd - K) * norm.cdf(d) + sigT * norm.pdf(d)\n",
    "    \n",
    "    def price_digital_call(self,fwd,K,modVol,T):\n",
    "        sigT = modVol * math.sqrt(T)\n",
    "        d = (fwd - K) / sigT \n",
    "        return 1 - norm.cdf(d)\n",
    "    \n",
    "    def delta(self,fwd,K,modVol,T):\n",
    "        return -self.price_digital_call(fwd,K,modVol,T) + 1"
   ]
  },
  {
   "cell_type": "code",
   "execution_count": 8,
   "metadata": {
    "scrolled": true
   },
   "outputs": [
    {
     "name": "stdout",
     "output_type": "stream",
     "text": [
      "0.398942280401\n"
     ]
    }
   ],
   "source": [
    "model = BlackModelNormal()\n",
    "price = model.price_call(0.01,0.01,1,1)\n",
    "print(price)"
   ]
  },
  {
   "cell_type": "code",
   "execution_count": 13,
   "metadata": {},
   "outputs": [
    {
     "name": "stdout",
     "output_type": "stream",
     "text": [
      "**********************************************************************\n",
      "File \"__main__\", line 11, in __main__.BlackModelNormal.price_call\n",
      "Failed example:\n",
      "    print(price)\n",
      "Expected:\n",
      "    0.398942280401        \n",
      "Got:\n",
      "    0.398942280401\n",
      "**********************************************************************\n",
      "File \"__main__\", line 22, in __main__.BlackModelNormal.price_digital_call\n",
      "Failed example:\n",
      "    print(price)\n",
      "Expected:\n",
      "    0.5        \n",
      "Got:\n",
      "    0.5\n",
      "**********************************************************************\n",
      "2 items had failures:\n",
      "   1 of   3 in __main__.BlackModelNormal.price_call\n",
      "   1 of   3 in __main__.BlackModelNormal.price_digital_call\n",
      "***Test Failed*** 2 failures.\n"
     ]
    }
   ],
   "source": [
    "import math\n",
    "from scipy.stats import norm\n",
    "\n",
    "class BlackModelNormal():\n",
    "       \n",
    "    def price_call(self,fwd,K,modVol,T):\n",
    "        \"\"\" Gives Price of call option\n",
    "       \n",
    "        >>> call = BlackModelNormal()\n",
    "        >>> price = call.price_call(0.01,0.01,1,1)\n",
    "        >>> print(price)\n",
    "        0.398942280401        \n",
    "        \"\"\"\n",
    "        sigT = modVol * math.sqrt(T)\n",
    "        d = (fwd - K) / sigT \n",
    "        return (fwd - K) * norm.cdf(d) + sigT * norm.pdf(d)\n",
    "    \n",
    "    def price_digital_call(self,fwd,K,modVol,T):\n",
    "        \"\"\" Gives Price of call option\n",
    "        >>> call = BlackModelNormal()\n",
    "        >>> price = call.price_digital_call(0.01,0.01,1,1)\n",
    "        >>> print(price)\n",
    "        0.5        \n",
    "        \"\"\"\n",
    "        sigT = modVol * math.sqrt(T)\n",
    "        d = (fwd - K) / sigT \n",
    "        return 1 - norm.cdf(d)\n",
    "    \n",
    "    def delta(self,fwd,K,modVol,T):\n",
    "        return -self.price_digital_call(fwd,K,modVol,T) + 1\n",
    "    \n",
    "if __name__ == \"__main__\":\n",
    "    import doctest\n",
    "    doctest.testmod()\n",
    "\n"
   ]
  },
  {
   "cell_type": "code",
   "execution_count": null,
   "metadata": {
    "collapsed": true
   },
   "outputs": [],
   "source": []
  }
 ],
 "metadata": {
  "kernelspec": {
   "display_name": "Python 3",
   "language": "python",
   "name": "python3"
  },
  "language_info": {
   "codemirror_mode": {
    "name": "ipython",
    "version": 3
   },
   "file_extension": ".py",
   "mimetype": "text/x-python",
   "name": "python",
   "nbconvert_exporter": "python",
   "pygments_lexer": "ipython3",
   "version": "3.6.3"
  }
 },
 "nbformat": 4,
 "nbformat_minor": 2
}
