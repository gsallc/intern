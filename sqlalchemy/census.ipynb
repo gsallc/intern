{
 "cells": [
  {
   "cell_type": "code",
   "execution_count": 1,
   "metadata": {
    "collapsed": true
   },
   "outputs": [],
   "source": [
    "import sqlalchemy as db\n",
    "import pandas as pd\n",
    "from sqlalchemy import create_engine, MetaData, Table, select"
   ]
  },
  {
   "cell_type": "code",
   "execution_count": 2,
   "metadata": {
    "collapsed": true
   },
   "outputs": [],
   "source": [
    "# engine = db.create_engine('sqlite:///census.sqlite')\n",
    "# connection = engine.connect()\n",
    "# metadata = db.MetaData()\n",
    "# census = db.Table('census', metadata, autoload=True, autoload_with=engine)"
   ]
  },
  {
   "cell_type": "code",
   "execution_count": null,
   "metadata": {},
   "outputs": [],
   "source": []
  },
  {
   "cell_type": "code",
   "execution_count": 3,
   "metadata": {},
   "outputs": [],
   "source": [
    "#Equivalent to 'SELECT * FROM census'\n",
    "# query = db.select([census])\n",
    "# ResultProxy = connection.execute(query)\n",
    "# ResultSet = ResultProxy.fetchall()\n",
    "# ResultSet[:3]"
   ]
  },
  {
   "cell_type": "code",
   "execution_count": 4,
   "metadata": {},
   "outputs": [],
   "source": [
    "# df = pd.DataFrame(ResultSet)\n",
    "# df.columns = ResultSet[0].keys()\n",
    "# df['state'].unique()"
   ]
  },
  {
   "cell_type": "code",
   "execution_count": 5,
   "metadata": {},
   "outputs": [],
   "source": [
    "# stmt = db.select([census]).where(census.columns.sex == 'F')\n",
    "# Females = connection.execute(stmt).fetchall()\n",
    "# df_female = pd.DataFrame(Females)\n",
    "# df_female.columns = Females[0].keys()\n",
    "# df_female.head()"
   ]
  },
  {
   "cell_type": "code",
   "execution_count": 6,
   "metadata": {},
   "outputs": [],
   "source": [
    "# stmt2 = db.select([census]).where(census.columns.state.in_(['New York']))\n",
    "# NY_TX = connection.execute(stmt2).fetchall()\n",
    "# NY_TX"
   ]
  },
  {
   "cell_type": "code",
   "execution_count": null,
   "metadata": {},
   "outputs": [],
   "source": []
  },
  {
   "cell_type": "code",
   "execution_count": 7,
   "metadata": {
    "collapsed": true
   },
   "outputs": [],
   "source": [
    "class population():\n",
    "    \n",
    "    def __init__(self):\n",
    "        self.census = self.databaseconn()[0]\n",
    "        self.connection = self.databaseconn()[1]\n",
    "        \n",
    "    def databaseconn(self):\n",
    "        \n",
    "        engine = db.create_engine('sqlite:///census.sqlite')\n",
    "        connection = engine.connect()\n",
    "        metadata = db.MetaData()\n",
    "        census = db.Table('census', metadata, autoload=True, autoload_with=engine)\n",
    "        \n",
    "        return census, connection\n",
    "        \n",
    "    \n",
    "    def calpop_age_sex(self,age, sex):\n",
    "        stmt3 = db.select([self.census]).where(db.and_(self.census.columns.age.in_([age]),self.census.columns.sex.in_([sex])))\n",
    "        age = self.connection.execute(stmt3).fetchall()\n",
    "        df_age = pd.DataFrame(age)\n",
    "        df_age.columns = age[0].keys()\n",
    "        pop_2000 = df_age['pop2000'].sum()/1000000\n",
    "        pop_2008 = df_age['pop2008'].sum()/1000000\n",
    "        \n",
    "        return (pop_2008/pop_2000 -1)*100\n",
    "    \n",
    "    def cal_statepop(self, state):\n",
    "        stmt = db.select([self.census]).where(self.census.columns.state.in_([state]))\n",
    "        stat = self.connection.execute(stmt).fetchall()\n",
    "        df_state = pd.DataFrame(stat)\n",
    "        df_state.columns = stat[0].keys()\n",
    "        pop_st_2000 = df_state['pop2000'].sum()/1000000\n",
    "        pop_st_2008 = df_state['pop2008'].sum()/1000000\n",
    "        \n",
    "        return  (pop_st_2008/pop_st_2000 -1)*100\n",
    "    \n",
    "    \n",
    "        \n",
    "        "
   ]
  },
  {
   "cell_type": "code",
   "execution_count": 8,
   "metadata": {},
   "outputs": [
    {
     "name": "stdout",
     "output_type": "stream",
     "text": [
      "105185280\n",
      "107077632\n",
      "107544576\n",
      "107999232\n"
     ]
    }
   ],
   "source": [
    "import os\n",
    "import psutil\n",
    "process = psutil.Process(os.getpid())\n",
    "print(process.memory_info().rss)\n",
    "pop = population()\n",
    "#age_4_M = pop.calpop_age_sex(85,'F')\n",
    "\n",
    "process = psutil.Process(os.getpid())\n",
    "print(process.memory_info().rss)\n",
    "NY = pop.cal_statepop('New York')\n",
    "NY\n",
    "\n",
    "process = psutil.Process(os.getpid())\n",
    "print(process.memory_info().rss)\n",
    "engine = db.create_engine('sqlite:///census.sqlite')\n",
    "connection = engine.connect()\n",
    "metadata = db.MetaData()\n",
    "census = db.Table('census', metadata, autoload=True, autoload_with=engine)\n",
    "stmt = db.select([census])\n",
    "\n",
    "data = connection.execute(stmt).fetchall\n",
    "\n",
    "process = psutil.Process(os.getpid())\n",
    "print(process.memory_info().rss)"
   ]
  },
  {
   "cell_type": "code",
   "execution_count": null,
   "metadata": {},
   "outputs": [],
   "source": []
  },
  {
   "cell_type": "code",
   "execution_count": null,
   "metadata": {
    "collapsed": true
   },
   "outputs": [],
   "source": []
  }
 ],
 "metadata": {
  "kernelspec": {
   "display_name": "Python 3",
   "language": "python",
   "name": "python3"
  },
  "language_info": {
   "codemirror_mode": {
    "name": "ipython",
    "version": 3
   },
   "file_extension": ".py",
   "mimetype": "text/x-python",
   "name": "python",
   "nbconvert_exporter": "python",
   "pygments_lexer": "ipython3",
   "version": "3.6.3"
  }
 },
 "nbformat": 4,
 "nbformat_minor": 2
}
